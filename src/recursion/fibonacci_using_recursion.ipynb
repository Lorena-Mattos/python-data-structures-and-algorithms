{
 "cells": [
  {
   "cell_type": "markdown",
   "id": "dbbf01ce",
   "metadata": {},
   "source": [
    "# Fibonacci Sequency\n",
    "In mathematics, the Fibonacci numbers, commonly denoted $F_n$, form a sequence, called the Fibonacci sequence, such that each number is the sum of the two preceding ones, starting from $0$ and $1$.\n",
    "\n",
    "$$ F_0 = 0 \\\\\n",
    "F_1 = 1 \\\\\n",
    "F_n = F_{n-1} + F_{n-2}\n",
    "$$\n",
    "\n",
    "0, 1, 1, 2, 3, 5, 8, 13, 21, 34, 55"
   ]
  },
  {
   "cell_type": "code",
   "execution_count": 1,
   "id": "7db00115",
   "metadata": {},
   "outputs": [],
   "source": [
    "def fibonacci(n):\n",
    "    if n <= 1:\n",
    "        return n\n",
    "    else:\n",
    "        return fibonacci(n-1) + fibonacci(n-2)"
   ]
  },
  {
   "cell_type": "code",
   "execution_count": 2,
   "id": "2708e35e",
   "metadata": {},
   "outputs": [],
   "source": [
    "n_terms = 10"
   ]
  },
  {
   "cell_type": "code",
   "execution_count": 3,
   "id": "9804c9fc",
   "metadata": {},
   "outputs": [
    {
     "name": "stdout",
     "output_type": "stream",
     "text": [
      "The 10 terms from Fibonacci sequence are:\n",
      "0\n",
      "1\n",
      "1\n",
      "2\n",
      "3\n",
      "5\n",
      "8\n",
      "13\n",
      "21\n",
      "34\n"
     ]
    }
   ],
   "source": [
    "# check if the number is valid\n",
    "if n_terms <= 0:\n",
    "    print('Invalid number, please enter a positive interger')\n",
    "else:\n",
    "    print('The ' + str(n_terms) + ' terms from Fibonacci sequence are:')\n",
    "    for i in range(0,n_terms):\n",
    "        print( fibonacci(i) )"
   ]
  }
 ],
 "metadata": {
  "kernelspec": {
   "display_name": "Python 3",
   "language": "python",
   "name": "python3"
  },
  "language_info": {
   "codemirror_mode": {
    "name": "ipython",
    "version": 3
   },
   "file_extension": ".py",
   "mimetype": "text/x-python",
   "name": "python",
   "nbconvert_exporter": "python",
   "pygments_lexer": "ipython3",
   "version": "3.8.8"
  }
 },
 "nbformat": 4,
 "nbformat_minor": 5
}
