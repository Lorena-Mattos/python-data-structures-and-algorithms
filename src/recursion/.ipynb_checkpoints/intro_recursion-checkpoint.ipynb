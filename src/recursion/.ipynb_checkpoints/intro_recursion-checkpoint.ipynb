{
 "cells": [
  {
   "cell_type": "markdown",
   "id": "bb8f17fd",
   "metadata": {},
   "source": [
    "# Recursion\n",
    "\n",
    "In computer science Recursion is a technique for solving problems where the solution to a particular problem depends on the solution to a smaller instance of the same problem.\n",
    "\n",
    "- [GeeksforGeeks](https://www.geeksforgeeks.org/recursion/)\n",
    "\n",
    "Algorithmically\n",
    "- We can think that Recursion is a way to design solutions to problems by **divide and conquer** or **decrease and conquer**\n",
    "- Reduce a problem to simpler versions of the same problem\n",
    "\n",
    "Semantically\n",
    "- A programming technique where a **function calls itself**\n",
    "- Goal is to NOT have infinite recursion\n",
    "- Must have 1 or more base cases that are easy to solve"
   ]
  },
  {
   "cell_type": "markdown",
   "id": "d116385d",
   "metadata": {},
   "source": [
    " Recursion works really well with recursive structures like tress and graphs\n",
    "\n",
    "| Pros | Cons |\n",
    "| ---- | ---- |\n",
    "| Bridges the gap between elegance and complexity | Slowness due CPU overhead | \n",
    "| Reduces the need for complex loops and auxiliary data sctructures | Can lead to out of memory erros |\n",
    "| Can reduce time complexity easily with memoization | Can be unnecessarily complex if poorly constructed |"
   ]
  },
  {
   "cell_type": "markdown",
   "id": "15627471",
   "metadata": {},
   "source": [
    "## Power of 2\n",
    "\n",
    "Consider the problem of calculating $\\mathtt{2^5}$. Let's assume to calculate this, you need to do one multiplication after another. That's $2 * 2 * 2 * 2 * 2$. We know that $2^5 = 2 * 2^4$. If we know the value of $2^4$, we can easily calculate $2^5$.\n",
    "\n",
    "We can use recursion to solve this problem, since the solution to the original problem ($2^n$) depends on the solution to a smaller instance ($2^{n-1}$) of the same problem. The recursive solution is to calculate $2 * 2^{n-1}$ for all n that is greater than 0. If n is 0, return 1. We'll ignore all negative numbers.\n",
    "\n",
    "Let's look at what the recursive steps would be for calculating $2^5$.\n",
    "\n",
    "$2^5 = 2 * 2^4$\n",
    "\n",
    "$2^5 = 2 * 2 * 2^3$\n",
    "\n",
    "$2^5 = 2 * 2 * 2 * 2^2$\n",
    "\n",
    "$2^5 = 2 * 2 * 2 * 2 * 2^1$\n",
    "\n",
    "$2^5 = 2 * 2 * 2 * 2 * 2 * 2^0$\n"
   ]
  },
  {
   "cell_type": "code",
   "execution_count": 1,
   "id": "d6da0354",
   "metadata": {},
   "outputs": [],
   "source": [
    "def power2(n):\n",
    "    if n <= 0:\n",
    "        return 1\n",
    "    else:\n",
    "        return 2 * power2(n - 1)"
   ]
  },
  {
   "cell_type": "code",
   "execution_count": 2,
   "id": "d9181bdf",
   "metadata": {},
   "outputs": [
    {
     "data": {
      "text/plain": [
       "32"
      ]
     },
     "execution_count": 2,
     "metadata": {},
     "output_type": "execute_result"
    }
   ],
   "source": [
    "power2(5)"
   ]
  },
  {
   "cell_type": "markdown",
   "id": "1a3506de",
   "metadata": {},
   "source": [
    "## Sum of integers\n",
    "Implement `sum_integers(n)` to  calculate the sum of all integers from $1$ to $n$ using recursion. "
   ]
  },
  {
   "cell_type": "code",
   "execution_count": 3,
   "id": "fdc9ff8e",
   "metadata": {},
   "outputs": [],
   "source": [
    "def sum_integers(n):\n",
    "    if n <= 1:\n",
    "        return 1\n",
    "    else:\n",
    "        output = n + sum_integers(n - 1)\n",
    "        return output"
   ]
  },
  {
   "cell_type": "code",
   "execution_count": 4,
   "id": "73a4a61b",
   "metadata": {},
   "outputs": [
    {
     "data": {
      "text/plain": [
       "55"
      ]
     },
     "execution_count": 4,
     "metadata": {},
     "output_type": "execute_result"
    }
   ],
   "source": [
    "sum_integers(10)"
   ]
  },
  {
   "cell_type": "markdown",
   "id": "af6301f9",
   "metadata": {},
   "source": [
    "## Sum of elements of array\n",
    "Implement `sum_array(n)` to  calculate the sum of all elements in the array from $0$ to $n$ using recursion. "
   ]
  },
  {
   "cell_type": "code",
   "execution_count": 5,
   "id": "c8355278",
   "metadata": {},
   "outputs": [],
   "source": [
    "def sum_array(array):\n",
    "    \n",
    "    if len(array) == 1:\n",
    "        return array[0]\n",
    "    \n",
    "    return array[0] + sum_array(array[1:])\n"
   ]
  },
  {
   "cell_type": "code",
   "execution_count": 6,
   "id": "92c0dc4f",
   "metadata": {},
   "outputs": [
    {
     "data": {
      "text/plain": [
       "55"
      ]
     },
     "execution_count": 6,
     "metadata": {},
     "output_type": "execute_result"
    }
   ],
   "source": [
    "arr = [1, 2, 3, 4, 5, 6, 7, 8 , 9, 10]\n",
    "sum_array(arr)"
   ]
  }
 ],
 "metadata": {
  "kernelspec": {
   "display_name": "Python 3",
   "language": "python",
   "name": "python3"
  },
  "language_info": {
   "codemirror_mode": {
    "name": "ipython",
    "version": 3
   },
   "file_extension": ".py",
   "mimetype": "text/x-python",
   "name": "python",
   "nbconvert_exporter": "python",
   "pygments_lexer": "ipython3",
   "version": "3.8.8"
  }
 },
 "nbformat": 4,
 "nbformat_minor": 5
}
